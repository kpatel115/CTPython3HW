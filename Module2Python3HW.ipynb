{
 "cells": [
  {
   "cell_type": "code",
   "execution_count": 2,
   "id": "8f30fe07",
   "metadata": {},
   "outputs": [
    {
     "name": "stdout",
     "output_type": "stream",
     "text": [
      "2018 Chevrolet Silverado\n"
     ]
    }
   ],
   "source": [
    "#In-Class Exercise #1\n",
    "# use the dict below\n",
    "truck = {\n",
    "    'year': 2018,\n",
    "    'make': 'Chevrolet',\n",
    "    'model': 'Silverado'\n",
    "}\n",
    "\n",
    "print(f\"{truck['year']} {truck['make']} {truck['model']}\")\n"
   ]
  },
  {
   "cell_type": "code",
   "execution_count": 3,
   "id": "7add225f",
   "metadata": {},
   "outputs": [
    {
     "name": "stdout",
     "output_type": "stream",
     "text": [
      "Max has blue eyes\n",
      "Lilly has brown eyes\n",
      "Barney has blue eyes\n",
      "Larney has brown eyes\n",
      "Ted has purple eyes\n"
     ]
    }
   ],
   "source": [
    "# In-Class Exercise #2\n",
    "# use the dict below\n",
    "\n",
    "people = {\n",
    "    'Max': 'blue',\n",
    "    'Lilly': 'brown',\n",
    "    'Barney': 'blue',\n",
    "    'Larney': 'brown',\n",
    "    'Ted': 'purple'\n",
    "}\n",
    "\n",
    "for key, value in people.items():\n",
    "    print(f\"{key} has {value} eyes\")\n",
    "    "
   ]
  },
  {
   "cell_type": "code",
   "execution_count": 4,
   "id": "a09f0eaa",
   "metadata": {},
   "outputs": [
    {
     "name": "stdout",
     "output_type": "stream",
     "text": [
      "Please enter information and split it with a : \n",
      " enter 'quit' to exitHey: Jude\n",
      "Please enter information and split it with a : \n",
      " enter 'quit' to exitHowAreYou:Mk\n",
      "Please enter information and split it with a : \n",
      " enter 'quit' to exitquit\n",
      "{'Hey': ' Jude', 'HowAreYou': 'Mk'}\n"
     ]
    }
   ],
   "source": [
    "# Exercise #3\n",
    "from IPython.display import clear_output\n",
    "new_dict= {}\n",
    "def funcExercise():\n",
    "    flag = True\n",
    "    \n",
    "    while flag:\n",
    "        \n",
    "        prompt = \"Please enter information and split it with a : \\n enter 'quit' to exit\"\n",
    "        user_data = input(prompt)\n",
    "        \n",
    "        if user_data == 'quit':\n",
    "            print(new_dict)\n",
    "            flag = False\n",
    "        else:\n",
    "            key, val = user_data.split(':')\n",
    "            new_dict.update({key:val})\n",
    "    \n",
    "funcExercise()"
   ]
  },
  {
   "cell_type": "code",
   "execution_count": 5,
   "id": "90ed0e02",
   "metadata": {},
   "outputs": [
    {
     "name": "stdout",
     "output_type": "stream",
     "text": [
      "Please enter grocery item and price then enter ':' between them... \n",
      "To delete an item, enter 'delete' to delete the last cart item... \n",
      "Enter 'quit' to exit...\n",
      "Apple:1.99\n",
      "{'Apple': '1.99'}\n",
      "Please enter grocery item and price then enter ':' between them... \n",
      "To delete an item, enter 'delete' to delete the last cart item... \n",
      "Enter 'quit' to exit...\n",
      "Kiwi:2.49\n",
      "{'Apple': '1.99', 'Kiwi': '2.49'}\n",
      "Please enter grocery item and price then enter ':' between them... \n",
      "To delete an item, enter 'delete' to delete the last cart item... \n",
      "Enter 'quit' to exit...\n",
      "delete\n",
      "{'Apple': '1.99'}\n",
      "Please enter grocery item and price then enter ':' between them... \n",
      "To delete an item, enter 'delete' to delete the last cart item... \n",
      "Enter 'quit' to exit...\n",
      "quit\n",
      "{'Apple': '1.99'}\n"
     ]
    }
   ],
   "source": [
    "# Build a shopping Cart\n",
    "from IPython.display import clear_output\n",
    "\n",
    "# Ask the user four bits of input: Do you want to : Show/Add/Delete or Quit?\n",
    "cart = {}\n",
    "\n",
    "def shoppingCart():\n",
    "    flag = True\n",
    "    \n",
    "    \n",
    "    while flag:\n",
    "\n",
    "        prompt = \"Please enter grocery item and price then enter ':' between them... \\nTo delete an item, enter 'delete' to delete the last cart item... \\nEnter 'quit' to exit...\\n\"\n",
    "        item = input(prompt)\n",
    "        \n",
    "        if item == 'quit':\n",
    "            print(cart)\n",
    "            flag = False\n",
    "        elif item == 'delete':\n",
    "            cart.popitem()\n",
    "            print(cart)\n",
    "        else:\n",
    "            key, val = item.split(':')\n",
    "            cart.update({key:val})\n",
    "            print(cart)\n",
    "shoppingCart()"
   ]
  },
  {
   "cell_type": "code",
   "execution_count": 6,
   "id": "da883fee",
   "metadata": {},
   "outputs": [
    {
     "name": "stdout",
     "output_type": "stream",
     "text": [
      "Hello Sir/Madam Sir. It is a pleasure to meet you. Right this way now.\n"
     ]
    }
   ],
   "source": [
    "import moduleToUse as md\n",
    "md.greetUser('Sir')"
   ]
  }
 ],
 "metadata": {
  "kernelspec": {
   "display_name": "Python 3 (ipykernel)",
   "language": "python",
   "name": "python3"
  },
  "language_info": {
   "codemirror_mode": {
    "name": "ipython",
    "version": 3
   },
   "file_extension": ".py",
   "mimetype": "text/x-python",
   "name": "python",
   "nbconvert_exporter": "python",
   "pygments_lexer": "ipython3",
   "version": "3.9.13"
  }
 },
 "nbformat": 4,
 "nbformat_minor": 5
}
